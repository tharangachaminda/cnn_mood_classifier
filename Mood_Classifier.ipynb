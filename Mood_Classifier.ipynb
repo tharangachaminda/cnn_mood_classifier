{
 "cells": [
  {
   "cell_type": "markdown",
   "id": "909b8d0c-759c-4d59-ad1f-3cbf54aba624",
   "metadata": {},
   "source": [
    "# Mood Recognition CNN model\n",
    "## What is mood classification?\n",
    "A mood classification is a type of machine learning task that is used to recognize human moods or emotions based on input data, such as text, images, audio, or physiological signs. It's designed to automatically determine the emotional state or mood of an individual from the provided input."
   ]
  },
  {
   "cell_type": "markdown",
   "id": "e836ad4a-36b0-453d-826d-caf5d958355d",
   "metadata": {},
   "source": [
    "<div class=\"alert alert-success\">\n",
    "    <h3>Table of content</h3>\n",
    "    <ol>\n",
    "        <li><a href=\"#project_goal\">Project Goal</a></li>\n",
    "        <li>\n",
    "            <a href=\"#business_understanding\">Business Understanding</a>\n",
    "            <ol>\n",
    "                <li><a href=\"#purpose\">Purpose</a></li>\n",
    "                <li><a href=\"#business_impact\">Business Impact</a></li>\n",
    "                <li><a href=\"#stakeholders\">Stakeholders</a></li>\n",
    "            </ol>\n",
    "        </li>\n",
    "        <li>\n",
    "            <a href=\"#technologies_and_tools\">Technologies and tool</a>\n",
    "        </li>\n",
    "        <li><a href=\"#load_dataset\">Load Dataset and split</a></li>\n",
    "        <li><a href=\"#check_dimensions\">Check dimensions of Data</a></li>\n",
    "        <li><a href=\"#forward_prop\">Implementing Forward Propagation</a></li>\n",
    "        <li><a href=\"#compile_model\">Compile the model</a></li>\n",
    "        <li><a href=\"#summary_of_the_model\">Summary of the model</a></li>\n",
    "        <li><a href=\"#train_and_evaluation\">Train and evaluation</a></li>\n",
    "        <li><a href=\"#save_model\">Save the model</a></li>\n",
    "    </ol>\n",
    "</div>"
   ]
  },
  {
   "cell_type": "markdown",
   "id": "f270ef71-8f99-41a7-a9c9-475427b45457",
   "metadata": {},
   "source": [
    "<a id=\"project_goal\"></a>\n",
    "<h2>Project Goal</h2>\n",
    "<p>In this project I will develop a ConvNet that determines whether the people in the image are smiling or not.</p>\n",
    "\n",
    "<a id=\"business_understanding\"></a>\n",
    "<h2>Business Understanding</h2>\n",
    "<a id=\"purpose\"></a>\n",
    "<h3>Purpose</h3>\n",
    "To promote inclusivity, accessibility, and effective communication for the deaf and hard-of-hearing communities.\n",
    "\n",
    "<a id=\"business_impact\"></a>\n",
    "<h3>Business Impact</h3>\n",
    "<p>Mood classification has various applications.</p>\n",
    "<ul>\n",
    "    <li>sentiment analysis in customer feedback\n",
    "    <li>recommendation systems\n",
    "    <li>personalized user experiences\n",
    "    <li>mental health monitoring\n",
    "</ul>\n",
    "\n",
    "<a id=\"stakeholders\"></a>\n",
    "<h3>Stakeholders</h3>\n",
    "<ul>\n",
    "    <li>Any retail store\n",
    "    <li>Banks\n",
    "    <li>Mental health professionals\n",
    "    <li>Academic and reseach institutions\n",
    "</ul>\n",
    "\n",
    "<a id=\"datasource\"></a>\n",
    "<h2>Data source</h2>\n",
    "I will be using the <a href=\"https://www.kaggle.com/datasets/iarunava/happy-house-dataset\" target=\"_blank\">Happy House dataset</a> for this project, which contains images of peaoples' faces.\n",
    "\n",
    "<a id=\"technologies_and_tools\"></a>\n",
    "<h2>Technologies and tools</h2>\n",
    "<ol>\n",
    "    <li>Tensorflow\n",
    "    <li>Keras' Sequential API\n",
    "</ol>\n",
    "\n",
    "<h2>Sequential API in Tensorflow</h2>\n",
    "Sequential API is hihg-level and user-friendly way to build and train deel pearning models. The sequential API is partucularly well-suited for building feedforward nerual networks, where data flows sequentially through layers from input to outlut."
   ]
  },
  {
   "cell_type": "code",
   "execution_count": 11,
   "id": "473738c5-1b1f-42da-b799-df714294fe0d",
   "metadata": {},
   "outputs": [],
   "source": [
    "import math\n",
    "import numpy as np\n",
    "import h5py\n",
    "import matplotlib.pyplot as plt\n",
    "from matplotlib.pyplot import imread\n",
    "import scipy\n",
    "from PIL import Image\n",
    "import pandas as pd\n",
    "import tensorflow as tf\n",
    "import tensorflow.keras.layers as tfl\n",
    "from tensorflow.keras.callbacks import ModelCheckpoint\n",
    "from tensorflow.python.framework import ops\n",
    "from tensorflow.keras.models import load_model\n",
    "from cnn_utils import *\n",
    "\n",
    "%matplotlib inline"
   ]
  },
  {
   "cell_type": "markdown",
   "id": "0787a924-bed4-42f0-af52-e0d4ebbcb08f",
   "metadata": {},
   "source": [
    "<a id=\"load_dataset\"></a>\n",
    "<h3>Load the Data and split the Data into Train/Test sets</h3>"
   ]
  },
  {
   "cell_type": "code",
   "execution_count": 2,
   "id": "088ba693-09cf-4d7a-8d86-e3a0b7efd017",
   "metadata": {},
   "outputs": [],
   "source": [
    "X_train_orig, Y_train_orig, X_test_orig, Y_test_orig, classes = load_happy_dataset()\n",
    "\n",
    "# Normalize image vectors\n",
    "X_train = X_train_orig/255.\n",
    "X_test = X_test_orig/255.\n",
    "\n",
    "# Reshape\n",
    "Y_train = Y_train_orig.T\n",
    "Y_test = Y_test_orig.T"
   ]
  },
  {
   "cell_type": "markdown",
   "id": "56d7da71-5f70-436f-bb14-f4e6ee1e1077",
   "metadata": {},
   "source": [
    "<a id=\"check_dimensions\"></a>\n",
    "<h3>Check the dimensions of Data</h3>"
   ]
  },
  {
   "cell_type": "code",
   "execution_count": 3,
   "id": "31b5e055-5b42-4f0c-b3a8-abf500958be3",
   "metadata": {},
   "outputs": [
    {
     "name": "stdout",
     "output_type": "stream",
     "text": [
      "Number of training examples: 600\n",
      "Number of test examples: 600\n",
      "X_train shape: (600, 64, 64, 3)\n",
      "Y_train shape: (600, 1)\n",
      "X_test shape: (150, 64, 64, 3)\n",
      "Y_test shape: (150, 1)\n"
     ]
    }
   ],
   "source": [
    "X_train_shape = X_train.shape\n",
    "Y_train_shape = Y_train.shape\n",
    "\n",
    "print(\"Number of training examples: %d\" % X_train_shape[0])\n",
    "print(\"Number of test examples: %d\" % X_train_shape[0])\n",
    "print(\"X_train shape: %s\" % str(X_train_shape))\n",
    "print(\"Y_train shape: %s\" % str(Y_train_shape))\n",
    "print(\"X_test shape: %s\" % str(X_test.shape))\n",
    "print(\"Y_test shape: %s\" % str(Y_test.shape))"
   ]
  },
  {
   "cell_type": "markdown",
   "id": "2faa6c0f-4c41-4250-8dd5-1db37bc92eef",
   "metadata": {},
   "source": [
    "### Observation\n",
    "1. Images are 64x64 pixels images.\n",
    "2. They have 3 channels. (RGB format)"
   ]
  },
  {
   "cell_type": "markdown",
   "id": "a590e547-05fd-4a2f-8bef-b89ca9d07797",
   "metadata": {},
   "source": [
    "### Let's open up a sample image"
   ]
  },
  {
   "cell_type": "code",
   "execution_count": 4,
   "id": "97d620a3-526c-4171-909f-e00967e9c289",
   "metadata": {},
   "outputs": [
    {
     "data": {
      "image/png": "[encoded data removed]",
      "text/plain": [
       "<Figure size 640x480 with 1 Axes>"
      ]
     },
     "metadata": {},
     "output_type": "display_data"
    }
   ],
   "source": [
    "index = 11\n",
    "plt.imshow(X_train[index])\n",
    "plt.show()"
   ]
  },
  {
   "cell_type": "code",
   "execution_count": 5,
   "id": "f3ec28dc-8d1c-46a6-8722-af4dbb245411",
   "metadata": {},
   "outputs": [
    {
     "data": {
      "text/plain": [
       "array([0], dtype=int64)"
      ]
     },
     "execution_count": 5,
     "metadata": {},
     "output_type": "execute_result"
    }
   ],
   "source": [
    "Y_train[index]"
   ]
  },
  {
   "cell_type": "code",
   "execution_count": 6,
   "id": "22a3e554-bf96-49c0-85b8-ba8841c3b82f",
   "metadata": {},
   "outputs": [
    {
     "data": {
      "text/plain": [
       "array([0, 1], dtype=int64)"
      ]
     },
     "execution_count": 6,
     "metadata": {},
     "output_type": "execute_result"
    }
   ],
   "source": [
    "classes"
   ]
  },
  {
   "cell_type": "markdown",
   "id": "cc9f3d7f-4161-4663-9d36-f2466c88ef30",
   "metadata": {},
   "source": [
    "<a id=\"forward_prop\"></a>\n",
    "<h2>Forward Propagation (happyMdel)</h2>\n",
    "This model basically structured as follows\n",
    "\n",
    "`ZEROPAD2D -> CONV2D -> BATCHNORM -> RELU -> MAXPOOL -> DROPOUT -> FLATTEN -> DENSE`"
   ]
  },
  {
   "cell_type": "code",
   "execution_count": 7,
   "id": "3f52c2c5-b96a-481b-9f25-71050ec1d9a1",
   "metadata": {},
   "outputs": [],
   "source": [
    "def happyModel(padding, input_shape, conv2d_filter_size=[32], kernel_size=5, strides=1):\n",
    "    \"\"\"\n",
    "    Implements the forward propagation for the binary classification model:\n",
    "    ZEROPAD2D -> CONV2D -> BATCHNORM -> RELU -> MAXPOOL -> FLATTEN -> DENSE\n",
    "    \n",
    "    Arguments:\n",
    "    padding -- integer padding for ZeroPadding2D layer\n",
    "    input_shape -- tuple with the dimension of the input matrix\n",
    "    filter_size -- number of finters for Conv2D layer\n",
    "    kernel_size -- kernel size for Conv2D layer\n",
    "    strides -- strides for Conv2D layer\n",
    "    \n",
    "    Returns:\n",
    "    model -- TF Keras model (object containing the information for the entire training process)\n",
    "    \"\"\"\n",
    "    \n",
    "    model = tf.keras.Sequential([\n",
    "        tfl.ZeroPadding2D(padding=3, input_shape=(64, 64, 3)),\n",
    "        tfl.Conv2D(filters=conv2d_filter_size[0], kernel_size=(5, 5), activation='relu'),\n",
    "        #tfl.Conv2D(filters=conv2d_filter_size[1], kernel_size=(5, 5), activation='relu'),\n",
    "        #tfl.Conv2D(filters=conv2d_filter_size[2], kernel_size=(5, 5), activation='relu'),\n",
    "        #tfl.BatchNormalization(axis=3),\n",
    "        tfl.ReLU(),\n",
    "        tfl.MaxPool2D(),\n",
    "        tfl.Dropout(0.2),\n",
    "        tfl.Flatten(),\n",
    "        tfl.Dense(1, activation='sigmoid')\n",
    "    ])\n",
    "    \n",
    "    return model"
   ]
  },
  {
   "cell_type": "markdown",
   "id": "ec7ff29e-7fc6-42a0-a430-d7075ec7b5d4",
   "metadata": {},
   "source": [
    "The model is created.\n",
    "<a id=\"compile_model\"></a>\n",
    "<h2>Compile the model</h2>\n",
    "In Tensorflow we need to compile our model before we train our data on it.\n",
    "\n",
    "We need to provide few basic required parameters as follows.\n",
    "<ul>\n",
    "    <li>an <b>optimizer</b>\n",
    "    <li><b>loss</b> function\n",
    "    <li>accurecy <b>metrics</b> (MSE, MAE, MAPE, ...)\n",
    "</ul>\n",
    "Here I use string `'accuracy'` as metrics parameter, then Keras will deside most suitable accuracy metric based on the loss function."
   ]
  },
  {
   "cell_type": "code",
   "execution_count": 31,
   "id": "bf1dfb9a-a7e2-4a8a-9bb4-d4f1b1fd1b76",
   "metadata": {},
   "outputs": [],
   "source": [
    "input_shape = (X_train_shape[1], X_train_shape[2], X_train_shape[3])\n",
    "\n",
    "happy_model = happyModel(padding=3, input_shape=input_shape)\n",
    "\n",
    "cp1 = ModelCheckpoint('model/', monitor='accuracy', save_best_only=True)\n",
    "happy_model.compile(optimizer='adam', loss='binary_crossentropy', metrics=['accuracy'])"
   ]
  },
  {
   "cell_type": "markdown",
   "id": "6333e579-012a-4b66-9357-f54c79933125",
   "metadata": {},
   "source": [
    "Let's check the model parameters with the `.summary()` method. This will display\n",
    "- the type of laters\n",
    "- the shape of the outputs\n",
    "- parameter count in each layer"
   ]
  },
  {
   "cell_type": "markdown",
   "id": "b54d2b10-7e41-497c-94ae-64071c0bff49",
   "metadata": {},
   "source": [
    "<a id=\"summary_of_the_model\"></a>\n",
    "<h2>Summary of the model</h2>"
   ]
  },
  {
   "cell_type": "code",
   "execution_count": 32,
   "id": "324d6690-82e3-47d0-91c4-cfb786398c37",
   "metadata": {},
   "outputs": [
    {
     "name": "stdout",
     "output_type": "stream",
     "text": [
      "Model: \"sequential_6\"\n",
      "_________________________________________________________________\n",
      " Layer (type)                Output Shape              Param #   \n",
      "=================================================================\n",
      " zero_padding2d_6 (ZeroPadd  (None, 70, 70, 3)         0         \n",
      " ing2D)                                                          \n",
      "                                                                 \n",
      " conv2d_6 (Conv2D)           (None, 66, 66, 32)        2432      \n",
      "                                                                 \n",
      " re_lu_6 (ReLU)              (None, 66, 66, 32)        0         \n",
      "                                                                 \n",
      " max_pooling2d_6 (MaxPoolin  (None, 33, 33, 32)        0         \n",
      " g2D)                                                            \n",
      "                                                                 \n",
      " dropout_6 (Dropout)         (None, 33, 33, 32)        0         \n",
      "                                                                 \n",
      " flatten_6 (Flatten)         (None, 34848)             0         \n",
      "                                                                 \n",
      " dense_6 (Dense)             (None, 1)                 34849     \n",
      "                                                                 \n",
      "=================================================================\n",
      "Total params: 37281 (145.63 KB)\n",
      "Trainable params: 37281 (145.63 KB)\n",
      "Non-trainable params: 0 (0.00 Byte)\n",
      "_________________________________________________________________\n"
     ]
    }
   ],
   "source": [
    "happy_model.summary()"
   ]
  },
  {
   "cell_type": "markdown",
   "id": "911382e2-5ca8-415a-8e57-89464ac48e4b",
   "metadata": {
    "tags": []
   },
   "source": [
    "<a id=\"train_and_evaluation\"></a>\n",
    "<h2>Train and Evaluation the model</h2>\n",
    "<p>Now we can <b>fit()</b> the model. Parameters for the <b>.fit()</b> method will be, </p>\n",
    "<ul>\n",
    "    <li>train data - X_train in this case, \n",
    "    <li>relevant output labels - Y_train in this case,\n",
    "    <li>epochs (number of iterations),\n",
    "    <li>batch_size - mini batch size\n",
    "</ul>"
   ]
  },
  {
   "cell_type": "code",
   "execution_count": 33,
   "id": "0b61c087-46e8-4919-97f4-408571590591",
   "metadata": {},
   "outputs": [
    {
     "name": "stdout",
     "output_type": "stream",
     "text": [
      "Epoch 1/30\n",
      "18/19 [===========================>..] - ETA: 0s - loss: 0.7593 - accuracy: 0.5000INFO:tensorflow:Assets written to: model\\assets\n"
     ]
    },
    {
     "name": "stderr",
     "output_type": "stream",
     "text": [
      "INFO:tensorflow:Assets written to: model\\assets\n"
     ]
    },
    {
     "name": "stdout",
     "output_type": "stream",
     "text": [
      "19/19 [==============================] - 2s 78ms/step - loss: 0.7558 - accuracy: 0.5017\n",
      "Epoch 2/30\n",
      "19/19 [==============================] - ETA: 0s - loss: 0.6524 - accuracy: 0.6367INFO:tensorflow:Assets written to: model\\assets\n"
     ]
    },
    {
     "name": "stderr",
     "output_type": "stream",
     "text": [
      "INFO:tensorflow:Assets written to: model\\assets\n"
     ]
    },
    {
     "name": "stdout",
     "output_type": "stream",
     "text": [
      "19/19 [==============================] - 1s 68ms/step - loss: 0.6524 - accuracy: 0.6367\n",
      "Epoch 3/30\n",
      "18/19 [===========================>..] - ETA: 0s - loss: 0.5247 - accuracy: 0.7951INFO:tensorflow:Assets written to: model\\assets\n"
     ]
    },
    {
     "name": "stderr",
     "output_type": "stream",
     "text": [
      "INFO:tensorflow:Assets written to: model\\assets\n"
     ]
    },
    {
     "name": "stdout",
     "output_type": "stream",
     "text": [
      "19/19 [==============================] - 1s 69ms/step - loss: 0.5225 - accuracy: 0.7933\n",
      "Epoch 4/30\n",
      "18/19 [===========================>..] - ETA: 0s - loss: 0.3977 - accuracy: 0.8455INFO:tensorflow:Assets written to: model\\assets\n"
     ]
    },
    {
     "name": "stderr",
     "output_type": "stream",
     "text": [
      "INFO:tensorflow:Assets written to: model\\assets\n"
     ]
    },
    {
     "name": "stdout",
     "output_type": "stream",
     "text": [
      "19/19 [==============================] - 2s 82ms/step - loss: 0.3957 - accuracy: 0.8450\n",
      "Epoch 5/30\n",
      "19/19 [==============================] - ETA: 0s - loss: 0.3081 - accuracy: 0.9017INFO:tensorflow:Assets written to: model\\assets\n"
     ]
    },
    {
     "name": "stderr",
     "output_type": "stream",
     "text": [
      "INFO:tensorflow:Assets written to: model\\assets\n"
     ]
    },
    {
     "name": "stdout",
     "output_type": "stream",
     "text": [
      "19/19 [==============================] - 1s 71ms/step - loss: 0.3081 - accuracy: 0.9017\n",
      "Epoch 6/30\n",
      "18/19 [===========================>..] - ETA: 0s - loss: 0.2472 - accuracy: 0.9097INFO:tensorflow:Assets written to: model\\assets\n"
     ]
    },
    {
     "name": "stderr",
     "output_type": "stream",
     "text": [
      "INFO:tensorflow:Assets written to: model\\assets\n"
     ]
    },
    {
     "name": "stdout",
     "output_type": "stream",
     "text": [
      "19/19 [==============================] - 1s 73ms/step - loss: 0.2434 - accuracy: 0.9117\n",
      "Epoch 7/30\n",
      "18/19 [===========================>..] - ETA: 0s - loss: 0.2023 - accuracy: 0.9236INFO:tensorflow:Assets written to: model\\assets\n"
     ]
    },
    {
     "name": "stderr",
     "output_type": "stream",
     "text": [
      "INFO:tensorflow:Assets written to: model\\assets\n"
     ]
    },
    {
     "name": "stdout",
     "output_type": "stream",
     "text": [
      "19/19 [==============================] - 1s 76ms/step - loss: 0.1986 - accuracy: 0.9267\n",
      "Epoch 8/30\n",
      "19/19 [==============================] - 1s 46ms/step - loss: 0.2037 - accuracy: 0.9267\n",
      "Epoch 9/30\n",
      "18/19 [===========================>..] - ETA: 0s - loss: 0.1990 - accuracy: 0.9271INFO:tensorflow:Assets written to: model\\assets\n"
     ]
    },
    {
     "name": "stderr",
     "output_type": "stream",
     "text": [
      "INFO:tensorflow:Assets written to: model\\assets\n"
     ]
    },
    {
     "name": "stdout",
     "output_type": "stream",
     "text": [
      "19/19 [==============================] - 2s 81ms/step - loss: 0.1994 - accuracy: 0.9283\n",
      "Epoch 10/30\n",
      "18/19 [===========================>..] - ETA: 0s - loss: 0.1665 - accuracy: 0.9427INFO:tensorflow:Assets written to: model\\assets\n"
     ]
    },
    {
     "name": "stderr",
     "output_type": "stream",
     "text": [
      "INFO:tensorflow:Assets written to: model\\assets\n"
     ]
    },
    {
     "name": "stdout",
     "output_type": "stream",
     "text": [
      "19/19 [==============================] - 2s 82ms/step - loss: 0.1626 - accuracy: 0.9450\n",
      "Epoch 11/30\n",
      "18/19 [===========================>..] - ETA: 0s - loss: 0.1364 - accuracy: 0.9635INFO:tensorflow:Assets written to: model\\assets\n"
     ]
    },
    {
     "name": "stderr",
     "output_type": "stream",
     "text": [
      "INFO:tensorflow:Assets written to: model\\assets\n"
     ]
    },
    {
     "name": "stdout",
     "output_type": "stream",
     "text": [
      "19/19 [==============================] - 1s 76ms/step - loss: 0.1356 - accuracy: 0.9650\n",
      "Epoch 12/30\n",
      "19/19 [==============================] - 1s 58ms/step - loss: 0.1238 - accuracy: 0.9617\n",
      "Epoch 13/30\n",
      "18/19 [===========================>..] - ETA: 0s - loss: 0.1138 - accuracy: 0.9705INFO:tensorflow:Assets written to: model\\assets\n"
     ]
    },
    {
     "name": "stderr",
     "output_type": "stream",
     "text": [
      "INFO:tensorflow:Assets written to: model\\assets\n"
     ]
    },
    {
     "name": "stdout",
     "output_type": "stream",
     "text": [
      "19/19 [==============================] - 2s 95ms/step - loss: 0.1125 - accuracy: 0.9717\n",
      "Epoch 14/30\n",
      "19/19 [==============================] - 1s 49ms/step - loss: 0.1084 - accuracy: 0.9667\n",
      "Epoch 15/30\n",
      "19/19 [==============================] - 1s 43ms/step - loss: 0.1006 - accuracy: 0.9700\n",
      "Epoch 16/30\n",
      "18/19 [===========================>..] - ETA: 0s - loss: 0.0872 - accuracy: 0.9740INFO:tensorflow:Assets written to: model\\assets\n"
     ]
    },
    {
     "name": "stderr",
     "output_type": "stream",
     "text": [
      "INFO:tensorflow:Assets written to: model\\assets\n"
     ]
    },
    {
     "name": "stdout",
     "output_type": "stream",
     "text": [
      "19/19 [==============================] - 1s 74ms/step - loss: 0.0876 - accuracy: 0.9733\n",
      "Epoch 17/30\n",
      "19/19 [==============================] - 1s 42ms/step - loss: 0.0987 - accuracy: 0.9650\n",
      "Epoch 18/30\n",
      "19/19 [==============================] - 1s 45ms/step - loss: 0.0819 - accuracy: 0.9733\n",
      "Epoch 19/30\n",
      "18/19 [===========================>..] - ETA: 0s - loss: 0.0840 - accuracy: 0.9809INFO:tensorflow:Assets written to: model\\assets\n"
     ]
    },
    {
     "name": "stderr",
     "output_type": "stream",
     "text": [
      "INFO:tensorflow:Assets written to: model\\assets\n"
     ]
    },
    {
     "name": "stdout",
     "output_type": "stream",
     "text": [
      "19/19 [==============================] - 1s 75ms/step - loss: 0.0826 - accuracy: 0.9800\n",
      "Epoch 20/30\n",
      "18/19 [===========================>..] - ETA: 0s - loss: 0.0744 - accuracy: 0.9826INFO:tensorflow:Assets written to: model\\assets\n"
     ]
    },
    {
     "name": "stderr",
     "output_type": "stream",
     "text": [
      "INFO:tensorflow:Assets written to: model\\assets\n"
     ]
    },
    {
     "name": "stdout",
     "output_type": "stream",
     "text": [
      "19/19 [==============================] - 1s 78ms/step - loss: 0.0727 - accuracy: 0.9833\n",
      "Epoch 21/30\n",
      "19/19 [==============================] - 1s 45ms/step - loss: 0.0771 - accuracy: 0.9783\n",
      "Epoch 22/30\n",
      "19/19 [==============================] - 1s 46ms/step - loss: 0.0890 - accuracy: 0.9700\n",
      "Epoch 23/30\n",
      "19/19 [==============================] - 1s 47ms/step - loss: 0.0724 - accuracy: 0.9767\n",
      "Epoch 24/30\n",
      "19/19 [==============================] - 1s 46ms/step - loss: 0.0792 - accuracy: 0.9733\n",
      "Epoch 25/30\n",
      "19/19 [==============================] - 1s 49ms/step - loss: 0.0684 - accuracy: 0.9800\n",
      "Epoch 26/30\n",
      "18/19 [===========================>..] - ETA: 0s - loss: 0.0711 - accuracy: 0.9844INFO:tensorflow:Assets written to: model\\assets\n"
     ]
    },
    {
     "name": "stderr",
     "output_type": "stream",
     "text": [
      "INFO:tensorflow:Assets written to: model\\assets\n"
     ]
    },
    {
     "name": "stdout",
     "output_type": "stream",
     "text": [
      "19/19 [==============================] - 2s 87ms/step - loss: 0.0701 - accuracy: 0.9850\n",
      "Epoch 27/30\n",
      "19/19 [==============================] - 1s 55ms/step - loss: 0.0603 - accuracy: 0.9800\n",
      "Epoch 28/30\n",
      "18/19 [===========================>..] - ETA: 0s - loss: 0.0534 - accuracy: 0.9861INFO:tensorflow:Assets written to: model\\assets\n"
     ]
    },
    {
     "name": "stderr",
     "output_type": "stream",
     "text": [
      "INFO:tensorflow:Assets written to: model\\assets\n"
     ]
    },
    {
     "name": "stdout",
     "output_type": "stream",
     "text": [
      "19/19 [==============================] - 2s 90ms/step - loss: 0.0534 - accuracy: 0.9867\n",
      "Epoch 29/30\n",
      "19/19 [==============================] - 1s 54ms/step - loss: 0.0600 - accuracy: 0.9800\n",
      "Epoch 30/30\n",
      "18/19 [===========================>..] - ETA: 0s - loss: 0.0479 - accuracy: 0.9896INFO:tensorflow:Assets written to: model\\assets\n"
     ]
    },
    {
     "name": "stderr",
     "output_type": "stream",
     "text": [
      "INFO:tensorflow:Assets written to: model\\assets\n"
     ]
    },
    {
     "name": "stdout",
     "output_type": "stream",
     "text": [
      "19/19 [==============================] - 1s 74ms/step - loss: 0.0467 - accuracy: 0.9900\n"
     ]
    },
    {
     "data": {
      "text/plain": [
       "<keras.src.callbacks.History at 0x1ac0ac05cc0>"
      ]
     },
     "execution_count": 33,
     "metadata": {},
     "output_type": "execute_result"
    }
   ],
   "source": [
    "happy_model.fit(X_train, Y_train, epochs=30, batch_size=32, callbacks=[cp1])"
   ]
  },
  {
   "cell_type": "markdown",
   "id": "9a3bd796-a69b-48cf-9d88-884af150680c",
   "metadata": {},
   "source": [
    "Evaluate againt our test data."
   ]
  },
  {
   "cell_type": "code",
   "execution_count": 34,
   "id": "afbf07ee-51dd-4bc7-8db4-ee7745461d4f",
   "metadata": {},
   "outputs": [],
   "source": [
    "best_model = load_model('model/')"
   ]
  },
  {
   "cell_type": "code",
   "execution_count": 36,
   "id": "ddb3c838-4f49-4c37-b206-7eb5f5ecbded",
   "metadata": {},
   "outputs": [
    {
     "name": "stdout",
     "output_type": "stream",
     "text": [
      "5/5 [==============================] - 0s 11ms/step - loss: 0.1148 - accuracy: 0.9600\n"
     ]
    },
    {
     "data": {
      "text/plain": [
       "[0.11475122720003128, 0.9599999785423279]"
      ]
     },
     "execution_count": 36,
     "metadata": {},
     "output_type": "execute_result"
    }
   ],
   "source": [
    "best_model.evaluate(X_test, Y_test)"
   ]
  },
  {
   "cell_type": "markdown",
   "id": "8759a6c2-6b6c-4485-b985-eab14165a830",
   "metadata": {},
   "source": [
    "<a id=\"save_model\"></a>\n",
    "<h2>Save model for future use</h2>"
   ]
  },
  {
   "cell_type": "code",
   "execution_count": 37,
   "id": "1bf1ba5d-d2dc-47ce-8643-798170a924d8",
   "metadata": {},
   "outputs": [],
   "source": [
    "#happy_model.save('happy_model.keras')"
   ]
  },
  {
   "cell_type": "markdown",
   "id": "a19cd330-b945-4d14-8a23-d1222b87ce76",
   "metadata": {},
   "source": [
    "### Predict our own image\n",
    "This function will convert uploaded image into the format that valid for our happy_model."
   ]
  },
  {
   "cell_type": "code",
   "execution_count": 38,
   "id": "1b022f11-bb36-49d2-9709-9d12f25912cc",
   "metadata": {},
   "outputs": [],
   "source": [
    "def imageToArray(imageName):\n",
    "    # Load the image and resize it to the desired dimensions\n",
    "    #image_path = f'images/{imageName}'\n",
    "    image_path = f'images/happy/{imageName}'\n",
    "    width, height = 64, 64\n",
    "\n",
    "    image = Image.open(image_path)\n",
    "    image = image.resize((width, height))\n",
    "    print(image.width)\n",
    "    # Convert the image to a NumPy array and normalize the pixel values (if necessary)\n",
    "    image_array = np.asarray(image)\n",
    "    image_array = image_array / 255.  # Normalize the pixel values between 0 and 1\n",
    "    \n",
    "    plt.imshow(image_array)\n",
    "    plt.show()\n",
    "\n",
    "    print(image_array.shape)\n",
    "    # Reshape the image array to match the input shape of your model\n",
    "    image_array = image_array.reshape(1, width, height, 3)  # Assumes the input shape is (width, height, 3)\n",
    "\n",
    "    return image_array"
   ]
  },
  {
   "cell_type": "code",
   "execution_count": 42,
   "id": "efb0ab56-1468-40df-b163-3e316bbd6146",
   "metadata": {},
   "outputs": [
    {
     "name": "stdout",
     "output_type": "stream",
     "text": [
      "64\n"
     ]
    },
    {
     "data": {
      "image/png": "[encoded data removed]",
      "text/plain": [
       "<Figure size 640x480 with 1 Axes>"
      ]
     },
     "metadata": {},
     "output_type": "display_data"
    },
    {
     "name": "stdout",
     "output_type": "stream",
     "text": [
      "(64, 64, 3)\n",
      "1/1 [==============================] - 0s 18ms/step\n",
      "1.jpg Sad [[0.00193428]]\n"
     ]
    }
   ],
   "source": [
    "input_images = ['1.jpg']\n",
    "\n",
    "class_strings = ['Sad', 'Happy']\n",
    "\n",
    "for img in input_images:\n",
    "    img_arr = imageToArray(img)\n",
    "    predicted = best_model.predict(img_arr)\n",
    "    \n",
    "    pred = int(predicted > 0.5) \n",
    "    print(img, class_strings[pred], predicted)"
   ]
  },
  {
   "cell_type": "code",
   "execution_count": null,
   "id": "e36d8594-1175-44b0-a7bd-82179ea3dd4e",
   "metadata": {},
   "outputs": [],
   "source": []
  }
 ],
 "metadata": {
  "kernelspec": {
   "display_name": "Python 3 (ipykernel)",
   "language": "python",
   "name": "python3"
  },
  "language_info": {
   "codemirror_mode": {
    "name": "ipython",
    "version": 3
   },
   "file_extension": ".py",
   "mimetype": "text/x-python",
   "name": "python",
   "nbconvert_exporter": "python",
   "pygments_lexer": "ipython3",
   "version": "3.10.9"
  }
 },
 "nbformat": 4,
 "nbformat_minor": 5
}

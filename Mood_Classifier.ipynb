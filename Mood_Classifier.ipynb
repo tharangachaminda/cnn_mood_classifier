{
 "cells": [
  {
   "cell_type": "markdown",
   "id": "909b8d0c-759c-4d59-ad1f-3cbf54aba624",
   "metadata": {},
   "source": [
    "# Mood Detection CNN model\n",
    "I will be using the **Happy House dataset** for this project, which contains images of peaoples' faces. I will build a ConvNet that determines whether the people in the image are smiling or not."
   ]
  },
  {
   "cell_type": "markdown",
   "id": "f7a57c93-f2d1-447c-984b-3a3c23dcb52b",
   "metadata": {},
   "source": [
    "### Technologies used\n",
    "1. Tensorflow\n",
    "2. Keras\n",
    "2. Sequential API"
   ]
  },
  {
   "cell_type": "markdown",
   "id": "ab5a497e-505e-4627-aa7d-10a5fd3de149",
   "metadata": {},
   "source": [
    "### Sequential API in Tensorflow\n",
    "Sequential API is hihg-level and user-friendly way to build and train deel pearning models. The sequential API is partucularly well-suited for building feedforward nerual networks, where data flows sequentially through layers from input to outlut."
   ]
  },
  {
   "cell_type": "markdown",
   "id": "e836ad4a-36b0-453d-826d-caf5d958355d",
   "metadata": {},
   "source": [
    "<h3>Table of content</h3>\n",
    "<ol>\n",
    "    <li><a href=\"#load_dataset\">Load Dataset and split</a></li>\n",
    "    <li><a href=\"#check_dimensions\">Check dimensions of Data</a></li>\n",
    "</ol>"
   ]
  },
  {
   "cell_type": "code",
   "execution_count": 1,
   "id": "473738c5-1b1f-42da-b799-df714294fe0d",
   "metadata": {},
   "outputs": [],
   "source": [
    "import math\n",
    "import numpy as np\n",
    "import h5py\n",
    "import matplotlib.pyplot as plt\n",
    "from matplotlib.pyplot import imread\n",
    "import scipy\n",
    "from PIL import Image\n",
    "import pandas as pd\n",
    "import tensorflow as tf\n",
    "import tensorflow.keras.layers as tfl\n",
    "from tensorflow.python.framework import ops\n",
    "from cnn_utils import *\n",
    "\n",
    "%matplotlib inline"
   ]
  },
  {
   "cell_type": "markdown",
   "id": "0787a924-bed4-42f0-af52-e0d4ebbcb08f",
   "metadata": {},
   "source": [
    "<h3 id=\"load_dataset\">Load the Data and split the Data into Train/Test sets</h3>"
   ]
  },
  {
   "cell_type": "code",
   "execution_count": 2,
   "id": "088ba693-09cf-4d7a-8d86-e3a0b7efd017",
   "metadata": {},
   "outputs": [],
   "source": [
    "X_train_orig, Y_train_orig, X_test_orig, Y_test_orig, classes = load_happy_dataset()\n",
    "\n",
    "# Normalize image vectors\n",
    "X_train = X_train_orig/255.\n",
    "X_test = X_test_orig/255.\n",
    "\n",
    "# Reshape\n",
    "Y_train = Y_train_orig.T\n",
    "Y_test = Y_test_orig.T"
   ]
  },
  {
   "cell_type": "markdown",
   "id": "56d7da71-5f70-436f-bb14-f4e6ee1e1077",
   "metadata": {},
   "source": [
    "<h3 id=\"check_dimensions\">Check the dimensions of Data</h3>"
   ]
  },
  {
   "cell_type": "code",
   "execution_count": 7,
   "id": "31b5e055-5b42-4f0c-b3a8-abf500958be3",
   "metadata": {},
   "outputs": [
    {
     "name": "stdout",
     "output_type": "stream",
     "text": [
      "Number of training examples: 600\n",
      "Number of test examples: 600\n",
      "X_train shape: (600, 64, 64, 3)\n",
      "Y_train shape: (600, 1)\n",
      "X_test shape: (150, 64, 64, 3)\n",
      "Y_test shape: (150, 1)\n"
     ]
    }
   ],
   "source": [
    "X_train_shape = X_train.shape\n",
    "Y_train_shape = Y_train.shape\n",
    "\n",
    "print(\"Number of training examples: %d\" % X_train_shape[0])\n",
    "print(\"Number of test examples: %d\" % X_train_shape[0])\n",
    "print(\"X_train shape: %s\" % str(X_train_shape))\n",
    "print(\"Y_train shape: %s\" % str(Y_train_shape))\n",
    "print(\"X_test shape: %s\" % str(X_test.shape))\n",
    "print(\"Y_test shape: %s\" % str(Y_test.shape))"
   ]
  },
  {
   "cell_type": "markdown",
   "id": "2faa6c0f-4c41-4250-8dd5-1db37bc92eef",
   "metadata": {},
   "source": [
    "## Observation\n",
    "1. Images are 64x64 pixels images.\n",
    "2. They have 3 channels. (RGB format)"
   ]
  },
  {
   "cell_type": "markdown",
   "id": "a590e547-05fd-4a2f-8bef-b89ca9d07797",
   "metadata": {},
   "source": [
    "### Let's open up a sample image"
   ]
  },
  {
   "cell_type": "code",
   "execution_count": 61,
   "id": "97d620a3-526c-4171-909f-e00967e9c289",
   "metadata": {},
   "outputs": [
    {
     "data": {
      "image/png": "[encoded data removed]",
      "text/plain": [
       "<Figure size 640x480 with 1 Axes>"
      ]
     },
     "metadata": {},
     "output_type": "display_data"
    }
   ],
   "source": [
    "index = 100\n",
    "plt.imshow(X_train[index])\n",
    "plt.show()"
   ]
  },
  {
   "cell_type": "code",
   "execution_count": 34,
   "id": "22a3e554-bf96-49c0-85b8-ba8841c3b82f",
   "metadata": {},
   "outputs": [
    {
     "data": {
      "text/plain": [
       "array([0, 1], dtype=int64)"
      ]
     },
     "execution_count": 34,
     "metadata": {},
     "output_type": "execute_result"
    }
   ],
   "source": [
    "classes"
   ]
  },
  {
   "cell_type": "markdown",
   "id": "cc9f3d7f-4161-4663-9d36-f2466c88ef30",
   "metadata": {},
   "source": [
    "### Creating happyMdel\n",
    "This model basically structured as follows\n",
    "\n",
    "`ZEROPAD2D -> CONV2D -> BATCHNORM -> RELU -> MAXPOOL -> FLATTEN -> DENSE`"
   ]
  },
  {
   "cell_type": "code",
   "execution_count": 9,
   "id": "3f52c2c5-b96a-481b-9f25-71050ec1d9a1",
   "metadata": {},
   "outputs": [],
   "source": [
    "def happyModel(padding, input_shape, filter_size=32, kernel_size=7, strides=1):\n",
    "    \"\"\"\n",
    "    Implements the forward propagation for the binary classification model:\n",
    "    ZEROPAD2D -> CONV2D -> BATCHNORM -> RELU -> MAXPOOL -> FLATTEN -> DENSE\n",
    "    \n",
    "    Arguments:\n",
    "    padding -- integer padding for ZeroPadding2D layer\n",
    "    input_shape -- tuple with the dimension of the input matrix\n",
    "    filter_size -- number of finters for Conv2D layer\n",
    "    kernel_size -- kernel size for Conv2D layer\n",
    "    strides -- strides for Conv2D layer\n",
    "    \n",
    "    Returns:\n",
    "    model -- TF Keras model (object containing the information for the entire training process)\n",
    "    \"\"\"\n",
    "    \n",
    "    model = tf.keras.Sequential([\n",
    "        tfl.ZeroPadding2D(padding=padding, input_shape=input_shape),\n",
    "        tfl.Conv2D(filter_size, kernel_size, strides=strides),\n",
    "        tfl.BatchNormalization(axis=3),\n",
    "        tfl.ReLU(),\n",
    "        tfl.MaxPool2D(),\n",
    "        tfl.Flatten(),\n",
    "        tfl.Dense(1, activation='sigmoid')\n",
    "    ])\n",
    "    \n",
    "    return model"
   ]
  },
  {
   "cell_type": "markdown",
   "id": "ec7ff29e-7fc6-42a0-a430-d7075ec7b5d4",
   "metadata": {},
   "source": [
    "The model is created.\n",
    "\n",
    "### Compile the model\n",
    "In Tensorflow we need to compile our model before we train our data on it.\n",
    "\n",
    "We need to provide few basic required parameters as follows.\n",
    "- an **optimizer**\n",
    "- **loss** function\n",
    "- accurecy **metrics** (MSE, MAE, MAPE, ...)\n",
    "Here I use string `'accuracy'` as metrics parameter, then Keras will deside most suitable accuracy metric based on the loss function."
   ]
  },
  {
   "cell_type": "code",
   "execution_count": 14,
   "id": "bf1dfb9a-a7e2-4a8a-9bb4-d4f1b1fd1b76",
   "metadata": {},
   "outputs": [],
   "source": [
    "input_shape = (X_train_shape[1], X_train_shape[2], X_train_shape[3])\n",
    "\n",
    "happy_model = happyModel(padding=3, input_shape=input_shape)\n",
    "\n",
    "happy_model.compile(optimizer='adam', loss='binary_crossentropy', metrics=['accuracy'])"
   ]
  },
  {
   "cell_type": "markdown",
   "id": "6333e579-012a-4b66-9357-f54c79933125",
   "metadata": {},
   "source": [
    "Let's check the model parameters with the `.summary()` method. This will display\n",
    "- the type of laters\n",
    "- the shape of the outputs\n",
    "- parameter count in each layer"
   ]
  },
  {
   "cell_type": "code",
   "execution_count": 15,
   "id": "324d6690-82e3-47d0-91c4-cfb786398c37",
   "metadata": {},
   "outputs": [
    {
     "name": "stdout",
     "output_type": "stream",
     "text": [
      "Model: \"sequential_2\"\n",
      "_________________________________________________________________\n",
      " Layer (type)                Output Shape              Param #   \n",
      "=================================================================\n",
      " zero_padding2d_2 (ZeroPadd  (None, 70, 70, 3)         0         \n",
      " ing2D)                                                          \n",
      "                                                                 \n",
      " conv2d_2 (Conv2D)           (None, 64, 64, 32)        4736      \n",
      "                                                                 \n",
      " batch_normalization_2 (Bat  (None, 64, 64, 32)        128       \n",
      " chNormalization)                                                \n",
      "                                                                 \n",
      " re_lu_2 (ReLU)              (None, 64, 64, 32)        0         \n",
      "                                                                 \n",
      " max_pooling2d_2 (MaxPoolin  (None, 32, 32, 32)        0         \n",
      " g2D)                                                            \n",
      "                                                                 \n",
      " flatten_2 (Flatten)         (None, 32768)             0         \n",
      "                                                                 \n",
      " dense_2 (Dense)             (None, 1)                 32769     \n",
      "                                                                 \n",
      "=================================================================\n",
      "Total params: 37633 (147.00 KB)\n",
      "Trainable params: 37569 (146.75 KB)\n",
      "Non-trainable params: 64 (256.00 Byte)\n",
      "_________________________________________________________________\n"
     ]
    }
   ],
   "source": [
    "happy_model.summary()"
   ]
  },
  {
   "cell_type": "markdown",
   "id": "911382e2-5ca8-415a-8e57-89464ac48e4b",
   "metadata": {},
   "source": [
    "### Train and Evaluation the model\n",
    "Now we can `fit()` the model. Parameters for the `.fit()` method will be, \n",
    "- train data - X_train in this case, \n",
    "- relevant output labels - Y_train in this case,\n",
    "- epochs (number of iterations),\n",
    "- batch_size - mini batch size"
   ]
  },
  {
   "cell_type": "code",
   "execution_count": 62,
   "id": "0b61c087-46e8-4919-97f4-408571590591",
   "metadata": {},
   "outputs": [
    {
     "name": "stdout",
     "output_type": "stream",
     "text": [
      "Epoch 1/50\n",
      "19/19 [==============================] - 1s 58ms/step - loss: 0.0037 - accuracy: 1.0000\n",
      "Epoch 2/50\n",
      "19/19 [==============================] - 1s 60ms/step - loss: 0.0033 - accuracy: 0.9983\n",
      "Epoch 3/50\n",
      "19/19 [==============================] - 1s 58ms/step - loss: 0.0018 - accuracy: 1.0000\n",
      "Epoch 4/50\n",
      "19/19 [==============================] - 1s 62ms/step - loss: 0.0023 - accuracy: 1.0000\n",
      "Epoch 5/50\n",
      "19/19 [==============================] - 1s 62ms/step - loss: 0.0017 - accuracy: 1.0000\n",
      "Epoch 6/50\n",
      "19/19 [==============================] - 1s 64ms/step - loss: 0.0114 - accuracy: 0.9967\n",
      "Epoch 7/50\n",
      "19/19 [==============================] - 1s 63ms/step - loss: 0.0050 - accuracy: 1.0000\n",
      "Epoch 8/50\n",
      "19/19 [==============================] - 1s 64ms/step - loss: 0.0028 - accuracy: 1.0000\n",
      "Epoch 9/50\n",
      "19/19 [==============================] - 1s 64ms/step - loss: 0.0021 - accuracy: 1.0000\n",
      "Epoch 10/50\n",
      "19/19 [==============================] - 1s 63ms/step - loss: 0.0069 - accuracy: 0.9950\n",
      "Epoch 11/50\n",
      "19/19 [==============================] - 1s 56ms/step - loss: 0.0048 - accuracy: 0.9967\n",
      "Epoch 12/50\n",
      "19/19 [==============================] - 1s 56ms/step - loss: 0.0025 - accuracy: 0.9983\n",
      "Epoch 13/50\n",
      "19/19 [==============================] - 1s 57ms/step - loss: 0.0051 - accuracy: 0.9967\n",
      "Epoch 14/50\n",
      "19/19 [==============================] - 1s 57ms/step - loss: 0.0046 - accuracy: 0.9967\n",
      "Epoch 15/50\n",
      "19/19 [==============================] - 1s 57ms/step - loss: 0.0015 - accuracy: 1.0000\n",
      "Epoch 16/50\n",
      "19/19 [==============================] - 1s 58ms/step - loss: 0.0011 - accuracy: 1.0000\n",
      "Epoch 17/50\n",
      "19/19 [==============================] - 1s 63ms/step - loss: 0.0019 - accuracy: 1.0000\n",
      "Epoch 18/50\n",
      "19/19 [==============================] - 1s 61ms/step - loss: 0.0012 - accuracy: 1.0000\n",
      "Epoch 19/50\n",
      "19/19 [==============================] - 1s 60ms/step - loss: 7.0781e-04 - accuracy: 1.0000\n",
      "Epoch 20/50\n",
      "19/19 [==============================] - 1s 62ms/step - loss: 7.8016e-04 - accuracy: 1.0000\n",
      "Epoch 21/50\n",
      "19/19 [==============================] - 1s 62ms/step - loss: 7.5351e-04 - accuracy: 1.0000\n",
      "Epoch 22/50\n",
      "19/19 [==============================] - 1s 63ms/step - loss: 7.0242e-04 - accuracy: 1.0000\n",
      "Epoch 23/50\n",
      "19/19 [==============================] - 1s 64ms/step - loss: 7.4510e-04 - accuracy: 1.0000\n",
      "Epoch 24/50\n",
      "19/19 [==============================] - 1s 66ms/step - loss: 9.0721e-04 - accuracy: 1.0000\n",
      "Epoch 25/50\n",
      "19/19 [==============================] - 1s 69ms/step - loss: 6.5904e-04 - accuracy: 1.0000\n",
      "Epoch 26/50\n",
      "19/19 [==============================] - 1s 61ms/step - loss: 7.2266e-04 - accuracy: 1.0000\n",
      "Epoch 27/50\n",
      "19/19 [==============================] - 1s 60ms/step - loss: 7.4610e-04 - accuracy: 1.0000\n",
      "Epoch 28/50\n",
      "19/19 [==============================] - 1s 60ms/step - loss: 8.5265e-04 - accuracy: 1.0000\n",
      "Epoch 29/50\n",
      "19/19 [==============================] - 1s 62ms/step - loss: 8.4200e-04 - accuracy: 1.0000\n",
      "Epoch 30/50\n",
      "19/19 [==============================] - 1s 60ms/step - loss: 5.9682e-04 - accuracy: 1.0000\n",
      "Epoch 31/50\n",
      "19/19 [==============================] - 1s 64ms/step - loss: 6.2672e-04 - accuracy: 1.0000\n",
      "Epoch 32/50\n",
      "19/19 [==============================] - 1s 65ms/step - loss: 6.2663e-04 - accuracy: 1.0000\n",
      "Epoch 33/50\n",
      "19/19 [==============================] - 1s 65ms/step - loss: 5.0175e-04 - accuracy: 1.0000\n",
      "Epoch 34/50\n",
      "19/19 [==============================] - 1s 66ms/step - loss: 5.7216e-04 - accuracy: 1.0000\n",
      "Epoch 35/50\n",
      "19/19 [==============================] - 1s 67ms/step - loss: 6.1155e-04 - accuracy: 1.0000\n",
      "Epoch 36/50\n",
      "19/19 [==============================] - 1s 66ms/step - loss: 5.8066e-04 - accuracy: 1.0000\n",
      "Epoch 37/50\n",
      "19/19 [==============================] - 1s 68ms/step - loss: 4.9397e-04 - accuracy: 1.0000\n",
      "Epoch 38/50\n",
      "19/19 [==============================] - 1s 69ms/step - loss: 6.5776e-04 - accuracy: 1.0000\n",
      "Epoch 39/50\n",
      "19/19 [==============================] - 1s 67ms/step - loss: 4.7262e-04 - accuracy: 1.0000\n",
      "Epoch 40/50\n",
      "19/19 [==============================] - 1s 63ms/step - loss: 5.8998e-04 - accuracy: 1.0000\n",
      "Epoch 41/50\n",
      "19/19 [==============================] - 1s 65ms/step - loss: 5.6846e-04 - accuracy: 1.0000\n",
      "Epoch 42/50\n",
      "19/19 [==============================] - 1s 61ms/step - loss: 5.5679e-04 - accuracy: 1.0000\n",
      "Epoch 43/50\n",
      "19/19 [==============================] - 1s 61ms/step - loss: 5.8992e-04 - accuracy: 1.0000\n",
      "Epoch 44/50\n",
      "19/19 [==============================] - 1s 64ms/step - loss: 4.8334e-04 - accuracy: 1.0000\n",
      "Epoch 45/50\n",
      "19/19 [==============================] - 1s 64ms/step - loss: 5.8359e-04 - accuracy: 1.0000\n",
      "Epoch 46/50\n",
      "19/19 [==============================] - 1s 69ms/step - loss: 7.7123e-04 - accuracy: 1.0000\n",
      "Epoch 47/50\n",
      "19/19 [==============================] - 1s 72ms/step - loss: 4.0870e-04 - accuracy: 1.0000\n",
      "Epoch 48/50\n",
      "19/19 [==============================] - 1s 67ms/step - loss: 4.6047e-04 - accuracy: 1.0000\n",
      "Epoch 49/50\n",
      "19/19 [==============================] - 1s 66ms/step - loss: 5.0177e-04 - accuracy: 1.0000\n",
      "Epoch 50/50\n",
      "19/19 [==============================] - 1s 68ms/step - loss: 4.2858e-04 - accuracy: 1.0000\n"
     ]
    },
    {
     "data": {
      "text/plain": [
       "<keras.src.callbacks.History at 0x17a230beef0>"
      ]
     },
     "execution_count": 62,
     "metadata": {},
     "output_type": "execute_result"
    }
   ],
   "source": [
    "happy_model.fit(X_train, Y_train, epochs=50, batch_size=32)"
   ]
  },
  {
   "cell_type": "markdown",
   "id": "9a3bd796-a69b-48cf-9d88-884af150680c",
   "metadata": {},
   "source": [
    "Evaluate againt our test data."
   ]
  },
  {
   "cell_type": "code",
   "execution_count": 63,
   "id": "ddb3c838-4f49-4c37-b206-7eb5f5ecbded",
   "metadata": {},
   "outputs": [
    {
     "name": "stdout",
     "output_type": "stream",
     "text": [
      "5/5 [==============================] - 0s 16ms/step - loss: 0.0768 - accuracy: 0.9667\n"
     ]
    },
    {
     "data": {
      "text/plain": [
       "[0.07682845741510391, 0.9666666388511658]"
      ]
     },
     "execution_count": 63,
     "metadata": {},
     "output_type": "execute_result"
    }
   ],
   "source": [
    "happy_model.evaluate(X_test, Y_test)"
   ]
  },
  {
   "cell_type": "markdown",
   "id": "a19cd330-b945-4d14-8a23-d1222b87ce76",
   "metadata": {},
   "source": [
    "### Predict our own image\n",
    "This function will convert uploaded image into the format that valid for our happy_model."
   ]
  },
  {
   "cell_type": "code",
   "execution_count": 64,
   "id": "1b022f11-bb36-49d2-9709-9d12f25912cc",
   "metadata": {},
   "outputs": [],
   "source": [
    "def imageToArray(imageName):\n",
    "  # Load the image and resize it to the desired dimensions\n",
    "  image_path = f'images/{imageName}'\n",
    "  width, height = 64, 64\n",
    "\n",
    "  image = Image.open(image_path)\n",
    "  image = image.resize((width, height))\n",
    "  print(image.width)\n",
    "  # Convert the image to a NumPy array and normalize the pixel values (if necessary)\n",
    "  image_array = np.asarray(image)\n",
    "  image_array = image_array / 255.  # Normalize the pixel values between 0 and 1\n",
    "\n",
    "  print(image_array.shape)\n",
    "  # Reshape the image array to match the input shape of your model\n",
    "  image_array = image_array.reshape(1, width, height, 3)  # Assumes the input shape is (width, height, 3)\n",
    "\n",
    "  return image_array"
   ]
  },
  {
   "cell_type": "code",
   "execution_count": 67,
   "id": "efb0ab56-1468-40df-b163-3e316bbd6146",
   "metadata": {},
   "outputs": [
    {
     "name": "stdout",
     "output_type": "stream",
     "text": [
      "64\n",
      "(64, 64, 3)\n",
      "1/1 [==============================] - 0s 19ms/step\n",
      "image5.jpg Happy [[0.9999998]]\n"
     ]
    }
   ],
   "source": [
    "input_images = ['image5.jpg']\n",
    "\n",
    "class_strings = ['Sad', 'Happy']\n",
    "\n",
    "for img in input_images:\n",
    "    img_arr = imageToArray(img)\n",
    "    predicted = happy_model.predict(img_arr)\n",
    "    \n",
    "    pred = int(predicted > 0.5) \n",
    "    print(img, class_strings[pred], predicted)"
   ]
  },
  {
   "cell_type": "code",
   "execution_count": null,
   "id": "e36d8594-1175-44b0-a7bd-82179ea3dd4e",
   "metadata": {},
   "outputs": [],
   "source": []
  }
 ],
 "metadata": {
  "kernelspec": {
   "display_name": "Python 3 (ipykernel)",
   "language": "python",
   "name": "python3"
  },
  "language_info": {
   "codemirror_mode": {
    "name": "ipython",
    "version": 3
   },
   "file_extension": ".py",
   "mimetype": "text/x-python",
   "name": "python",
   "nbconvert_exporter": "python",
   "pygments_lexer": "ipython3",
   "version": "3.10.9"
  }
 },
 "nbformat": 4,
 "nbformat_minor": 5
}
